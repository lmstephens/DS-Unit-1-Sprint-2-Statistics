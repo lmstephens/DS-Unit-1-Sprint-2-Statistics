{
  "nbformat": 4,
  "nbformat_minor": 0,
  "metadata": {
    "colab": {
      "name": "LS_DS_123_Introduction_to_Bayesian_Inference_Assignment.ipynb",
      "provenance": []
    },
    "kernelspec": {
      "name": "python3",
      "display_name": "Python 3"
    }
  },
  "cells": [
    {
      "cell_type": "markdown",
      "metadata": {
        "id": "H7OLbevlbd_Z",
        "colab_type": "text"
      },
      "source": [
        "# Lambda School Data Science Module 123\n",
        "\n",
        "## Introduction to Bayesian Inference\n",
        "\n",
        "\n"
      ]
    },
    {
      "cell_type": "markdown",
      "metadata": {
        "id": "P-DzzRk5bf0z",
        "colab_type": "text"
      },
      "source": [
        "## Assignment - Code it up!\n",
        "\n",
        "We used pure math to apply Bayes Theorem to drug tests. Now write Python code to reproduce the results! This is purposefully open ended - you'll have to think about how you should represent probabilities and events. You can and should look things up.\n",
        "\n",
        "Specific goals/targets:\n",
        "\n",
        "### 1) Write a function \n",
        "\n",
        "`def prob_drunk_given_positive(prob_drunk_prior, false_positive_rate):` \n",
        "\n",
        "You should only truly need these two values in order to apply Bayes Theorem. In this example, imagine that individuals are taking a breathalyzer test with an 8% false positive rate, a 100% true positive rate, and that our prior belief about drunk driving in the population is 1/1000. \n",
        " - What is the probability that a person is drunk after one positive breathalyzer test?\n",
        " - What is the probability that a person is drunk after two positive breathalyzer tests?\n",
        " - How many positive breathalyzer tests are needed in order to have a probability that's greater than 95% that a person is drunk beyond the legal limit?\n",
        "\n",
        "### 2) Explore `scipy.stats.bayes_mvs`  \n",
        "Read its documentation, and experiment with it on data you've tested in other ways earlier this week.\n",
        " - Create a visualization comparing the results of a Bayesian approach to a traditional/frequentist approach. (with a large sample size they should look close to identical, however, take this opportunity to practice visualizing condfidence intervals in general. The following are some potential ways that you could visualize confidence intervals on your graph:\n",
        "  - [Matplotlib Error Bars](https://matplotlib.org/3.1.1/api/_as_gen/matplotlib.pyplot.errorbar.html)\n",
        "  - [Seaborn barplot with error bars](https://seaborn.pydata.org/generated/seaborn.barplot.html)\n",
        "  - [Vertical ines to show bounds of confidence interval](https://www.simplypsychology.org/confidence-interval.jpg)\n",
        "  - [Confidence Intervals on Box Plots](https://matplotlib.org/3.1.1/api/_as_gen/matplotlib.axes.Axes.boxplot.html)\n",
        "\n",
        "### 3) In your own words, summarize the difference between Bayesian and Frequentist statistics\n",
        "\n",
        "If you're unsure where to start, check out [this blog post of Bayes theorem with Python](https://dataconomy.com/2015/02/introduction-to-bayes-theorem-with-python/).\n",
        "\n"
      ]
    },
    {
      "cell_type": "markdown",
      "metadata": {
        "id": "oKdRQjNCmCc-",
        "colab_type": "text"
      },
      "source": [
        "1) Write a function\n",
        "* True positive 100% (says they are drunk when they are)\n",
        "* False positive 8% (says they are drunk when they are not)\n",
        "* Prior belief is that 1/1000 people drive drunk\n"
      ]
    },
    {
      "cell_type": "markdown",
      "metadata": {
        "id": "sge6H6ZGrH_1",
        "colab_type": "text"
      },
      "source": [
        "* P(+Drunk) = 1 - True Positive Rate\n",
        "* P(+|Not-drunk) = False Positive Rate\n",
        "* P(Drunk) = 1/1000 Prior Probability"
      ]
    },
    {
      "cell_type": "code",
      "metadata": {
        "id": "MHNOzj4B89mq",
        "colab_type": "code",
        "colab": {}
      },
      "source": [
        "def prob_drunk_driver(prob_drunk_prior, false_positive_rate, true_positive_rate, number_of_tests):\n",
        "  posterior_probability=prob_drunk_prior\n",
        "  for test in range(0, number_of_tests):\n",
        "      P_drunk = posterior_probability # prior belief\n",
        "      P_not_drunk = 1 - P_drunk  # complement of the prior belief\n",
        "      P_pos_given_drunk = false_positive_rate # this is the true positive rate\n",
        "      P_pos_given_not_drunk = true_positive_rate # this is the false positive rate\n",
        "      posterior_probability = (P_pos_given_drunk*P_drunk)/((P_pos_given_drunk*P_drunk) + (P_pos_given_not_drunk*P_not_drunk))\n",
        "  return posterior_probability"
      ],
      "execution_count": 0,
      "outputs": []
    },
    {
      "cell_type": "code",
      "metadata": {
        "id": "kBg4S0H59BDB",
        "colab_type": "code",
        "colab": {
          "base_uri": "https://localhost:8080/",
          "height": 34
        },
        "outputId": "a73e2b7a-8083-4896-ff13-70ab30e6454f"
      },
      "source": [
        "prob_drunk_driver(1/1000, 1, .08, 1)"
      ],
      "execution_count": 22,
      "outputs": [
        {
          "output_type": "execute_result",
          "data": {
            "text/plain": [
              "0.012357884330202669"
            ]
          },
          "metadata": {
            "tags": []
          },
          "execution_count": 22
        }
      ]
    },
    {
      "cell_type": "markdown",
      "metadata": {
        "id": "G_7FYYQqw93y",
        "colab_type": "text"
      },
      "source": [
        "What is the probability that a person is drunk after one positive breathalyzer test? **0.13525210993291495**"
      ]
    },
    {
      "cell_type": "code",
      "metadata": {
        "id": "-5JHuK679khj",
        "colab_type": "code",
        "colab": {
          "base_uri": "https://localhost:8080/",
          "height": 34
        },
        "outputId": "47808e87-93f2-4acf-b6ef-26496f67246c"
      },
      "source": [
        "prob_drunk_driver(1/1000, 1, .08, 2)"
      ],
      "execution_count": 25,
      "outputs": [
        {
          "output_type": "execute_result",
          "data": {
            "text/plain": [
              "0.13525210993291495"
            ]
          },
          "metadata": {
            "tags": []
          },
          "execution_count": 25
        }
      ]
    },
    {
      "cell_type": "markdown",
      "metadata": {
        "id": "Otb8c4QZxAni",
        "colab_type": "text"
      },
      "source": [
        "What is the probability that a person is drunk after two positive breathalyzer tests? **0.13525210993291495**"
      ]
    },
    {
      "cell_type": "code",
      "metadata": {
        "id": "9UacCcQpAmDL",
        "colab_type": "code",
        "colab": {
          "base_uri": "https://localhost:8080/",
          "height": 34
        },
        "outputId": "669a9c03-5180-4e23-a064-0ec757be3f4a"
      },
      "source": [
        "prob_drunk_driver(1/1000, 1, .08, 4)"
      ],
      "execution_count": 37,
      "outputs": [
        {
          "output_type": "execute_result",
          "data": {
            "text/plain": [
              "0.9606895076105054"
            ]
          },
          "metadata": {
            "tags": []
          },
          "execution_count": 37
        }
      ]
    },
    {
      "cell_type": "markdown",
      "metadata": {
        "id": "UQYuVe4xxCuq",
        "colab_type": "text"
      },
      "source": [
        "How many positive breathalyzer tests are needed in order to have a probability that's greater than 95% that a person is drunk beyond the legal limit? **4 times**"
      ]
    },
    {
      "cell_type": "markdown",
      "metadata": {
        "id": "OdBacLrEFMAQ",
        "colab_type": "text"
      },
      "source": [
        "3) In your own words, summarize the difference between Bayesian and Frequentist statistics"
      ]
    },
    {
      "cell_type": "markdown",
      "metadata": {
        "id": "RUsNKcqCBFhO",
        "colab_type": "text"
      },
      "source": [
        "To do 1) the long way look **below**"
      ]
    },
    {
      "cell_type": "code",
      "metadata": {
        "id": "xpVhZyUnbf7o",
        "colab_type": "code",
        "colab": {}
      },
      "source": [
        "# prior belief\n",
        "P_drunk = 1/1000\n",
        "# complement of the prior belief\n",
        "P_not_drunk = 1-P_drunk\n",
        "# true positive rate\n",
        "P_pos_given_drunk = 1\n",
        "# false positive rate\n",
        "P_pos_given_not_drunk = .08"
      ],
      "execution_count": 0,
      "outputs": []
    },
    {
      "cell_type": "code",
      "metadata": {
        "id": "tICzFiPcxN1Z",
        "colab_type": "code",
        "colab": {
          "base_uri": "https://localhost:8080/",
          "height": 34
        },
        "outputId": "c91ceb55-d719-446c-d2ad-8c5f51bfc81b"
      },
      "source": [
        "# first iteration of Bayes Rule\n",
        "numerator=P_pos_given_drunk*P_drunk\n",
        "numerator"
      ],
      "execution_count": 3,
      "outputs": [
        {
          "output_type": "execute_result",
          "data": {
            "text/plain": [
              "0.001"
            ]
          },
          "metadata": {
            "tags": []
          },
          "execution_count": 3
        }
      ]
    },
    {
      "cell_type": "code",
      "metadata": {
        "id": "6wSZ2OoTx0Ug",
        "colab_type": "code",
        "colab": {
          "base_uri": "https://localhost:8080/",
          "height": 34
        },
        "outputId": "8b0d52c1-f983-4c5a-f892-2b9e73b2d1de"
      },
      "source": [
        "# find the marginal\n",
        "marginal=(P_pos_given_drunk*P_drunk) + (P_pos_given_not_drunk*P_not_drunk)\n",
        "marginal"
      ],
      "execution_count": 5,
      "outputs": [
        {
          "output_type": "execute_result",
          "data": {
            "text/plain": [
              "0.08092"
            ]
          },
          "metadata": {
            "tags": []
          },
          "execution_count": 5
        }
      ]
    },
    {
      "cell_type": "code",
      "metadata": {
        "id": "PxZCQ2ib1Fzp",
        "colab_type": "code",
        "colab": {
          "base_uri": "https://localhost:8080/",
          "height": 34
        },
        "outputId": "117e8659-4be9-4685-be95-46ea7433e56b"
      },
      "source": [
        "# probability that someone is drunk given that they tested positive\n",
        "posterior = numerator/marginal\n",
        "posterior"
      ],
      "execution_count": 6,
      "outputs": [
        {
          "output_type": "execute_result",
          "data": {
            "text/plain": [
              "0.012357884330202669"
            ]
          },
          "metadata": {
            "tags": []
          },
          "execution_count": 6
        }
      ]
    },
    {
      "cell_type": "code",
      "metadata": {
        "id": "fGQphCAB1zXz",
        "colab_type": "code",
        "colab": {
          "base_uri": "https://localhost:8080/",
          "height": 34
        },
        "outputId": "7d3dbee5-3e51-49c7-bdac-2b82fef9e6c3"
      },
      "source": [
        "# the posterior probability from the first test becomes our prior for the second iteration\n",
        "P_drunk= posterior\n",
        "P_not_drunk = 1-P_drunk\n",
        "\n",
        "# apply Bayes\n",
        "numerator=P_pos_given_drunk*P_drunk\n",
        "marginal=(P_pos_given_drunk*P_drunk) + (P_pos_given_not_drunk*P_not_drunk)\n",
        "posterior = numerator/marginal\n",
        "posterior"
      ],
      "execution_count": 7,
      "outputs": [
        {
          "output_type": "execute_result",
          "data": {
            "text/plain": [
              "0.13525210993291495"
            ]
          },
          "metadata": {
            "tags": []
          },
          "execution_count": 7
        }
      ]
    },
    {
      "cell_type": "markdown",
      "metadata": {
        "id": "uWgWjp3PQ3Sq",
        "colab_type": "text"
      },
      "source": [
        "## Resources"
      ]
    },
    {
      "cell_type": "markdown",
      "metadata": {
        "id": "QRgHqmYIQ9qn",
        "colab_type": "text"
      },
      "source": [
        "- [Worked example of Bayes rule calculation](https://en.wikipedia.org/wiki/Bayes'_theorem#Examples) (helpful as it fully breaks out the denominator)\n",
        "- [Source code for mvsdist in scipy](https://github.com/scipy/scipy/blob/90534919e139d2a81c24bf08341734ff41a3db12/scipy/stats/morestats.py#L139)"
      ]
    },
    {
      "cell_type": "markdown",
      "metadata": {
        "id": "GP7Jv1XvwtkX",
        "colab_type": "text"
      },
      "source": [
        "## Stretch Goals:\n",
        "\n",
        "- Go back and study the content from Modules 1 & 2 to make sure that you're really comfortable with them.\n",
        "- Apply a Bayesian technique to a problem you previously worked (in an assignment or project work) on from a frequentist (standard) perspective\n",
        "- Check out [PyMC3](https://docs.pymc.io/) (note this goes beyond hypothesis tests into modeling) - read the guides and work through some examples\n",
        "- Take PyMC3 further - see if you can build something with it!"
      ]
    },
    {
      "cell_type": "code",
      "metadata": {
        "id": "iDi0eFr1x-v_",
        "colab_type": "code",
        "colab": {}
      },
      "source": [
        ""
      ],
      "execution_count": 0,
      "outputs": []
    }
  ]
}